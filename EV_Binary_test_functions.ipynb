{
  "nbformat": 4,
  "nbformat_minor": 0,
  "metadata": {
    "colab": {
      "provenance": []
    },
    "kernelspec": {
      "name": "python3",
      "display_name": "Python 3"
    },
    "language_info": {
      "name": "python"
    }
  },
  "cells": [
    {
      "cell_type": "code",
      "execution_count": null,
      "metadata": {
        "id": "h0mHMq-DPPVT"
      },
      "outputs": [],
      "source": [
        "# Implement 5 arbitrary objective functions for testing that take binary string of a specified length (problem dimension) as an input.\n",
        "# Examples:\n",
        "# - Leading ones/zeros\n",
        "# - OneMax\n",
        "# - Decadic value of the bit string\n",
        "# - Longest 1 chain\n",
        "# - Switching sequence - 101010101010\n",
        "# - etc."
      ]
    },
    {
      "cell_type": "code",
      "source": [
        "# install needed libraries\n",
        "import numpy as np"
      ],
      "metadata": {
        "id": "e8pvHYbuPeSg"
      },
      "execution_count": null,
      "outputs": []
    },
    {
      "cell_type": "code",
      "source": [
        "# define the binary string length as per desired length\n",
        "binary_string_length = 16\n",
        "\n",
        "# define the binary string\n",
        "binary_string = np.random.randint(2, size=binary_string_length)"
      ],
      "metadata": {
        "id": "PloD4H_UQm8V"
      },
      "execution_count": null,
      "outputs": []
    },
    {
      "cell_type": "code",
      "source": [
        "# 1. OneMax\n",
        "def onemax(binary_string):\n",
        "    return np.sum(binary_string)"
      ],
      "metadata": {
        "id": "ACnffPVNQtI-"
      },
      "execution_count": null,
      "outputs": []
    },
    {
      "cell_type": "code",
      "source": [
        "# 2. Longest 1 Chain\n",
        "def longest_1_chain(binary_string):\n",
        "    max_chain_length = 0\n",
        "    current_chain_length = 0\n",
        "    for bit in binary_string:\n",
        "        if bit == 1:\n",
        "            current_chain_length += 1\n",
        "            max_chain_length = max(max_chain_length, current_chain_length)\n",
        "        else:\n",
        "            current_chain_length = 0\n",
        "    return max_chain_length"
      ],
      "metadata": {
        "id": "f0Wi-APvQxtr"
      },
      "execution_count": null,
      "outputs": []
    },
    {
      "cell_type": "code",
      "source": [
        "# 3. Royal Road\n",
        "def royal_road(binary_string):\n",
        "    block_size = 4  # Define the block size for the Royal Road function\n",
        "    fitness = 0\n",
        "    for i in range(0, binary_string_length, block_size):\n",
        "        block = binary_string[i:i+block_size]\n",
        "        if np.all(block == 1):\n",
        "            fitness += block_size\n",
        "    return fitness"
      ],
      "metadata": {
        "id": "yqBzgk6rQ0wC"
      },
      "execution_count": null,
      "outputs": []
    },
    {
      "cell_type": "code",
      "source": [
        "# 4. Deceptive Trap\n",
        "def deceptive_trap(binary_string):\n",
        "    trap_size = 4  # Define the trap size for the Deceptive Trap function\n",
        "    fitness = 0\n",
        "    for i in range(0, binary_string_length, trap_size):\n",
        "        trap = binary_string[i:i+trap_size]\n",
        "        ones_count = np.sum(trap)\n",
        "        if ones_count == trap_size:\n",
        "            fitness += trap_size\n",
        "        else:\n",
        "            fitness += trap_size - ones_count\n",
        "    return fitness"
      ],
      "metadata": {
        "id": "n6qPrI2UQ4Sp"
      },
      "execution_count": null,
      "outputs": []
    },
    {
      "cell_type": "code",
      "source": [
        "# 5. Plateau\n",
        "def plateau(binary_string):\n",
        "    return binary_string_length"
      ],
      "metadata": {
        "id": "sNUXqGYlQ7kI"
      },
      "execution_count": null,
      "outputs": []
    },
    {
      "cell_type": "code",
      "source": [
        "# test the objective functions with the binary string\n",
        "print(\"Binary String:\", binary_string)\n",
        "print(\"OneMax:\", onemax(binary_string))\n",
        "print(\"Longest 1 Chain:\", longest_1_chain(binary_string))\n",
        "print(\"Royal Road:\", royal_road(binary_string))\n",
        "print(\"Deceptive Trap:\", deceptive_trap(binary_string))\n",
        "print(\"Plateau:\", plateau(binary_string))"
      ],
      "metadata": {
        "colab": {
          "base_uri": "https://localhost:8080/"
        },
        "id": "L_XORNBJQ9nt",
        "outputId": "690ae8ab-558d-4f5f-b59f-7a275ed9823e"
      },
      "execution_count": null,
      "outputs": [
        {
          "output_type": "stream",
          "name": "stdout",
          "text": [
            "Binary String: [0 1 1 1 1 1 0 0 0 1 0 0 1 0 1 0]\n",
            "OneMax: 8\n",
            "Longest 1 Chain: 5\n",
            "Royal Road: 0\n",
            "Deceptive Trap: 8\n",
            "Plateau: 16\n"
          ]
        }
      ]
    },
    {
      "cell_type": "code",
      "source": [],
      "metadata": {
        "id": "6d3qY5m4veB_"
      },
      "execution_count": null,
      "outputs": []
    }
  ]
}